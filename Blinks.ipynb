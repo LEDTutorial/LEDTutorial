{
 "cells": [
  {
   "cell_type": "code",
   "execution_count": null,
   "metadata": {},
   "outputs": [],
   "source": [
    "from time import sleep\n",
    "from pynq.overlays.base import BaseOverlay\n",
    "base = BaseOverlay(\"base.bit\")"
   ]
  },
  {
   "cell_type": "code",
   "execution_count": null,
   "metadata": {},
   "outputs": [],
   "source": [
    "led0 = base.leds[0]#LD0\n",
    "led1 = base.leds[1]#Ld1\n",
    "led2 = base.leds[2]#Ld2\n",
    "led3 = base.leds[3]#Ld3"
   ]
  },
  {
   "cell_type": "code",
   "execution_count": null,
   "metadata": {},
   "outputs": [],
   "source": [
    "sw0 = base.switches[0] #sw1\n",
    "sw1 = base.switches[1] #sw2"
   ]
  },
  {
   "cell_type": "code",
   "execution_count": null,
   "metadata": {},
   "outputs": [],
   "source": [
    "while(True):  # All the code below while(True) runs forever\n",
    "    if (sw0.read() == True):   # Reads SW0 and check if it toggled\n",
    "        led0.on()              # IF SW0 is ON --> Turn on LED0\n",
    "        led1.on()              # IF SW0 is ON --> Turn on LED1\n",
    "    else:\n",
    "        led0.off()             # ELSE Turn off LED0\n",
    "        led1.off()             # ELSE Turn off LED1\n",
    "    \n",
    "    if (sw1.read() == True):   # Reads SW1 and check if it toggled\n",
    "        led2.on()              # IF SW1 is ON --> Turn on LED2\n",
    "        led3.on()              # IF SW1 is ON --> Turn on LED3\n",
    "    else:\n",
    "        led2.off()             # ELSE Turn off LED2\n",
    "        led3.off()             # ELSE Turn off LED3"
   ]
  },
  {
   "cell_type": "code",
   "execution_count": null,
   "metadata": {},
   "outputs": [],
   "source": [
   
   ]
  },
  {
   "cell_type": "code",
   "execution_count": null,
   "metadata": {},
   "outputs": [],
   "source": []
  }
 ],
 "metadata": {
  "kernelspec": {
   "display_name": "Python 3",
   "language": "python",
   "name": "python3"
  },
  "language_info": {
   "codemirror_mode": {
    "name": "ipython",
    "version": 3
   },
   "file_extension": ".py",
   "mimetype": "text/x-python",
   "name": "python",
   "nbconvert_exporter": "python",
   "pygments_lexer": "ipython3",
   "version": "3.6.5"
  }
 },
 "nbformat": 4,
 "nbformat_minor": 2
}
